{
  "nbformat": 4,
  "nbformat_minor": 0,
  "metadata": {
    "colab": {
      "provenance": [],
      "authorship_tag": "ABX9TyOG95h9whzbIJ5fUR6X8Flu"
    },
    "kernelspec": {
      "name": "python3",
      "display_name": "Python 3"
    },
    "language_info": {
      "name": "python"
    }
  },
  "cells": [
    {
      "cell_type": "code",
      "execution_count": 1,
      "metadata": {
        "id": "d-CLrchhe9iy"
      },
      "outputs": [],
      "source": [
        "import random"
      ]
    },
    {
      "cell_type": "code",
      "source": [
        "# The Tic-Tac-Toe board\n",
        "board = [' ' for _ in range(9)]"
      ],
      "metadata": {
        "id": "JZsHm-u7fPHb"
      },
      "execution_count": 2,
      "outputs": []
    },
    {
      "cell_type": "code",
      "source": [
        "# Function to print the board\n",
        "def print_board():\n",
        "    for i in range(0, 9, 3):\n",
        "        print(board[i], '|', board[i+1], '|', board[i+2])\n",
        "        if i < 6:\n",
        "            print('-' * 9)"
      ],
      "metadata": {
        "id": "d1R8v8FqfSKK"
      },
      "execution_count": 3,
      "outputs": []
    },
    {
      "cell_type": "code",
      "source": [
        "# Function to check if the board is full\n",
        "def is_board_full(board):\n",
        "    return all(cell != ' ' for cell in board)"
      ],
      "metadata": {
        "id": "xJi9VbqUfSUB"
      },
      "execution_count": 4,
      "outputs": []
    },
    {
      "cell_type": "code",
      "source": [
        "# Function to check if a player has won\n",
        "def check_win(board, player):\n",
        "    win_patterns = [(0, 1, 2), (3, 4, 5), (6, 7, 8), (0, 3, 6), (1, 4, 7), (2, 5, 8), (0, 4, 8), (2, 4, 6)]\n",
        "    for pattern in win_patterns:\n",
        "        if all(board[i] == player for i in pattern):\n",
        "            return True\n",
        "    return False"
      ],
      "metadata": {
        "id": "Ty2PR_AFfSbV"
      },
      "execution_count": 5,
      "outputs": []
    },
    {
      "cell_type": "code",
      "source": [
        "# Minimax algorithm with Alpha-Beta Pruning\n",
        "def minimax(board, depth, maximizing_player, alpha, beta):\n",
        "    if check_win(board, 'X'):\n",
        "        return 1\n",
        "    if check_win(board, 'O'):\n",
        "        return -1\n",
        "    if is_board_full(board):\n",
        "        return 0\n",
        "\n",
        "    if maximizing_player:\n",
        "        max_eval = float('-inf')\n",
        "        for i in range(9):\n",
        "            if board[i] == ' ':\n",
        "                board[i] = 'X'\n",
        "                eval = minimax(board, depth + 1, False, alpha, beta)\n",
        "                board[i] = ' '\n",
        "                max_eval = max(max_eval, eval)\n",
        "                alpha = max(alpha, eval)\n",
        "                if beta <= alpha:\n",
        "                    break\n",
        "        return max_eval\n",
        "    else:\n",
        "        min_eval = float('inf')\n",
        "        for i in range(9):\n",
        "            if board[i] == ' ':\n",
        "                board[i] = 'O'\n",
        "                eval = minimax(board, depth + 1, True, alpha, beta)\n",
        "                board[i] = ' '\n",
        "                min_eval = min(min_eval, eval)\n",
        "                beta = min(beta, eval)\n",
        "                if beta <= alpha:\n",
        "                    break\n",
        "        return min_eval"
      ],
      "metadata": {
        "id": "cyuY-LldfbRQ"
      },
      "execution_count": 6,
      "outputs": []
    },
    {
      "cell_type": "code",
      "source": [
        "# Function to find the best move for AI\n",
        "def find_best_move(board):\n",
        "    best_move = -1\n",
        "    best_eval = float('-inf')\n",
        "    for i in range(9):\n",
        "        if board[i] == ' ':\n",
        "            board[i] = 'X'\n",
        "            eval = minimax(board, 0, False, float('-inf'), float('inf'))\n",
        "            board[i] = ' '\n",
        "            if eval > best_eval:\n",
        "                best_eval = eval\n",
        "                best_move = i\n",
        "    return best_move"
      ],
      "metadata": {
        "id": "25mlxQtjfbfq"
      },
      "execution_count": 7,
      "outputs": []
    },
    {
      "cell_type": "code",
      "source": [
        "# Main game loop\n",
        "def play_game():\n",
        "    print(\"Welcome to Tic-Tac-Toe!\")\n",
        "    print_board()\n",
        "    while True:\n",
        "        if not is_board_full(board) and not check_win(board, 'X') and not check_win(board, 'O'):\n",
        "            move = -1\n",
        "            while move < 0 or move >= 9 or board[move] != ' ':\n",
        "                move = int(input(\"Enter your move (0-8): \"))\n",
        "            board[move] = 'O'\n",
        "            print_board()\n",
        "\n",
        "        if check_win(board, 'O'):\n",
        "            print(\"You win!\")\n",
        "            break\n",
        "        elif is_board_full(board):\n",
        "            print(\"It's a draw!\")\n",
        "            break\n",
        "\n",
        "        ai_move = find_best_move(board)\n",
        "        board[ai_move] = 'X'\n",
        "        print(\"AI's move:\")\n",
        "        print_board()\n",
        "\n",
        "        if check_win(board, 'X'):\n",
        "            print(\"AI wins!\")\n",
        "            break\n",
        "            # Start the game\n",
        "play_game()"
      ],
      "metadata": {
        "colab": {
          "base_uri": "https://localhost:8080/"
        },
        "id": "SCPc4aNafSiY",
        "outputId": "b886006a-4858-4cbd-b8da-a3ef21f7c30c"
      },
      "execution_count": 8,
      "outputs": [
        {
          "output_type": "stream",
          "name": "stdout",
          "text": [
            "Welcome to Tic-Tac-Toe!\n",
            "  |   |  \n",
            "---------\n",
            "  |   |  \n",
            "---------\n",
            "  |   |  \n",
            "Enter your move (0-8): 5\n",
            "  |   |  \n",
            "---------\n",
            "  |   | O\n",
            "---------\n",
            "  |   |  \n",
            "AI's move:\n",
            "  |   | X\n",
            "---------\n",
            "  |   | O\n",
            "---------\n",
            "  |   |  \n",
            "Enter your move (0-8): 1\n",
            "  | O | X\n",
            "---------\n",
            "  |   | O\n",
            "---------\n",
            "  |   |  \n",
            "AI's move:\n",
            "  | O | X\n",
            "---------\n",
            "X |   | O\n",
            "---------\n",
            "  |   |  \n",
            "Enter your move (0-8): 4\n",
            "  | O | X\n",
            "---------\n",
            "X | O | O\n",
            "---------\n",
            "  |   |  \n",
            "AI's move:\n",
            "  | O | X\n",
            "---------\n",
            "X | O | O\n",
            "---------\n",
            "  | X |  \n",
            "Enter your move (0-8): 8\n",
            "  | O | X\n",
            "---------\n",
            "X | O | O\n",
            "---------\n",
            "  | X | O\n",
            "AI's move:\n",
            "X | O | X\n",
            "---------\n",
            "X | O | O\n",
            "---------\n",
            "  | X | O\n",
            "Enter your move (0-8): 6\n",
            "X | O | X\n",
            "---------\n",
            "X | O | O\n",
            "---------\n",
            "O | X | O\n",
            "It's a draw!\n"
          ]
        }
      ]
    },
    {
      "cell_type": "code",
      "source": [],
      "metadata": {
        "id": "7BFkkcoTfSu3"
      },
      "execution_count": null,
      "outputs": []
    }
  ]
}