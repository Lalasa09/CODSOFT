{
  "cells": [
    {
      "cell_type": "code",
      "execution_count": null,
      "metadata": {
        "colab": {
          "base_uri": "https://localhost:8080/"
        },
        "id": "9r_DZlpbCv47",
        "outputId": "d3af40ab-402f-4a15-b6b5-48fd42186fa0"
      },
      "outputs": [
        {
          "name": "stderr",
          "output_type": "stream",
          "text": [
            "[nltk_data] Downloading package wordnet to /root/nltk_data...\n"
          ]
        },
        {
          "data": {
            "text/plain": [
              "True"
            ]
          },
          "execution_count": 7,
          "metadata": {},
          "output_type": "execute_result"
        }
      ],
      "source": [
        "import re\n",
        "from nltk.corpus import wordnet\n",
        "import nltk\n",
        "nltk.download('wordnet')"
      ]
    },
    {
      "cell_type": "code",
      "execution_count": null,
      "metadata": {
        "colab": {
          "base_uri": "https://localhost:8080/"
        },
        "id": "xNf_CTavC1LH",
        "outputId": "133d56b9-6ce9-4be6-bc85-d81c0edc510f"
      },
      "outputs": [
        {
          "name": "stdout",
          "output_type": "stream",
          "text": [
            "{'hello': {'hello', 'howdy', 'hullo', 'how do you do', 'hi'}, 'timings': {'clock', 'time', 'timing'}}\n"
          ]
        }
      ],
      "source": [
        "list_words=['hello','timings']\n",
        "list_syn={}\n",
        "for word in list_words:\n",
        "    synonyms=[]\n",
        "    for syn in wordnet.synsets(word):\n",
        "        for lem in syn.lemmas():\n",
        "            # Remove any special characters from synonym strings\n",
        "            lem_name = re.sub('[^a-zA-Z0-9 \\n\\.]', ' ', lem.name())\n",
        "            synonyms.append(lem_name)\n",
        "    list_syn[word]=set(synonyms)\n",
        "print (list_syn)"
      ]
    },
    {
      "cell_type": "code",
      "execution_count": null,
      "metadata": {
        "colab": {
          "base_uri": "https://localhost:8080/"
        },
        "id": "P97WINZ8DfEq",
        "outputId": "ecf3e681-406b-4982-fa7c-5e3830cd3705"
      },
      "outputs": [
        {
          "name": "stdout",
          "output_type": "stream",
          "text": [
            "{'greet': re.compile('.*\\\\bhello\\\\b.*|.*\\\\bhowdy\\\\b.*|.*\\\\bhullo\\\\b.*|.*\\\\bhow do you do\\\\b.*|.*\\\\bhi\\\\b.*'), 'timings': re.compile('.*\\\\bclock\\\\b.*|.*\\\\btime\\\\b.*|.*\\\\btiming\\\\b.*')}\n"
          ]
        }
      ],
      "source": [
        "# Building dictionary of Intents & Keywords\n",
        "keywords={}\n",
        "keywords_dict={}\n",
        "# Defining a new key in the keywords dictionary\n",
        "keywords['greet']=[]\n",
        "# Populating the values in the keywords dictionary with synonyms of keywords formatted with RegEx metacharacters\n",
        "for synonym in list(list_syn['hello']):\n",
        "    keywords['greet'].append('.*\\\\b'+synonym+'\\\\b.*')\n",
        "\n",
        "# Defining a new key in the keywords dictionary\n",
        "keywords['timings']=[]\n",
        "# Populating the values in the keywords dictionary with synonyms of keywords formatted with RegEx metacharacters\n",
        "for synonym in list(list_syn['timings']):\n",
        "    keywords['timings'].append('.*\\\\b'+synonym+'\\\\b.*')\n",
        "for intent, keys in keywords.items():\n",
        "    # Joining the values in the keywords dictionary with the OR (|) operator updating them in keywords_dict dictionary\n",
        "    keywords_dict[intent]=re.compile('|'.join(keys))\n",
        "print (keywords_dict)\n",
        "\n",
        "\n"
      ]
    },
    {
      "cell_type": "code",
      "execution_count": null,
      "metadata": {
        "id": "gc6aHfLMDo1C"
      },
      "outputs": [],
      "source": [
        "# Building a dictionary of responses\n",
        "responses={\n",
        "    'greet':'Hello! How can I help you?',\n",
        "    'timings':'We are open from 9AM to 5PM, Monday to Friday. We are closed on weekends and public holidays.',\n",
        "    'fallback':'I dont quite understand. Could you repeat that?',\n",
        "}\n"
      ]
    },
    {
      "cell_type": "code",
      "execution_count": 12,
      "metadata": {
        "colab": {
          "base_uri": "https://localhost:8080/"
        },
        "id": "g2yf7qzXDwPI",
        "outputId": "e6095dab-9dde-4e94-bf6c-b4b26f077315"
      },
      "outputs": [
        {
          "output_type": "stream",
          "name": "stdout",
          "text": [
            "Hello! Lalasa. How may I help you?\n",
            "I dont quite understand. Could you repeat that?\n",
            "Hello! How can I help you?\n",
            "quit\n",
            "Thank you for visiting.\n"
          ]
        }
      ],
      "source": [
        "print (\"Hello! Lalasa. How may I help you?\")\n",
        "# While loop to run the chatbot indefinetely\n",
        "while (True):\n",
        "    # Takes the user input and converts all characters to lowercase\n",
        "    user_input = input().lower()\n",
        "    # Defining the Chatbot's exit condition\n",
        "    if user_input == 'quit':\n",
        "        print (\"Thank you for visiting.\")\n",
        "        break\n",
        "    matched_intent = None\n",
        "    for intent,pattern in keywords_dict.items():\n",
        "        # Using the regular expression search function to look for keywords in user input\n",
        "        if re.search(pattern, user_input):\n",
        "            # if a keyword matches, select the corresponding intent from the keywords_dict dictionary\n",
        "            matched_intent=intent\n",
        "    # The fallback intent is selected by default\n",
        "    key='fallback'\n",
        "    if matched_intent in responses:\n",
        "        # If a keyword matches, the fallback intent is replaced by the matched intent as the key for the responses dictionary\n",
        "        key = matched_intent\n",
        "    # The chatbot prints the response that matches the selected intent\n",
        "    print (responses[key])\n"
      ]
    }
  ],
  "metadata": {
    "colab": {
      "provenance": [],
      "authorship_tag": "ABX9TyPIdzo1zxaElYChjtDuf41p"
    },
    "kernelspec": {
      "display_name": "Python 3",
      "name": "python3"
    },
    "language_info": {
      "name": "python"
    }
  },
  "nbformat": 4,
  "nbformat_minor": 0
}